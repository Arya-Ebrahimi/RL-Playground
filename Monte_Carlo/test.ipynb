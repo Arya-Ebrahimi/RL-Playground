{
 "cells": [
  {
   "cell_type": "code",
   "execution_count": 1,
   "metadata": {},
   "outputs": [],
   "source": [
    "import gym\n",
    "import numpy as np\n",
    "from algorithms import *\n",
    "import matplotlib as plt\n",
    "from mpl_toolkits.axes_grid1 import make_axes_locatable\n"
   ]
  },
  {
   "cell_type": "code",
   "execution_count": 2,
   "metadata": {},
   "outputs": [],
   "source": [
    "env = gym.make('Blackjack-v1')"
   ]
  },
  {
   "cell_type": "code",
   "execution_count": null,
   "metadata": {},
   "outputs": [],
   "source": [
    "def plot_blackjack_values(V):\n",
    "    \n",
    "    def get_Z(x, y, usable_ace):\n",
    "        if (x,y,usable_ace) in V:\n",
    "            return V[x,y,usable_ace]\n",
    "        else:\n",
    "            return 0\n",
    "\n",
    "    def get_figure(usable_ace, ax):\n",
    "        x_range = np.arange(11, 22)\n",
    "        y_range = np.arange(1, 11)\n",
    "        X, Y = np.meshgrid(x_range, y_range)\n",
    "        \n",
    "        Z = np.array([get_Z(x,y,usable_ace) for x,y in zip(np.ravel(X), np.ravel(Y))]).reshape(X.shape)\n",
    "\n",
    "        surf = ax.plot_surface(X, Y, Z, rstride=1, cstride=1, cmap=plt.cm.coolwarm, vmin=-1.0, vmax=1.0)\n",
    "        ax.set_xlabel('Player\\'s Current Sum')\n",
    "        ax.set_ylabel('Dealer\\'s Showing Card')\n",
    "        ax.set_zlabel('State Value')\n",
    "        ax.view_init(ax.elev, -120)\n",
    "\n",
    "    fig = plt.figure(figsize=(20, 20))\n",
    "    ax = fig.add_subplot(211, projection='3d')\n",
    "    ax.set_title('Usable Ace')\n",
    "    get_figure(True, ax)\n",
    "    ax = fig.add_subplot(212, projection='3d')\n",
    "    ax.set_title('No Usable Ace')\n",
    "    get_figure(False, ax)\n",
    "    plt.show()"
   ]
  },
  {
   "cell_type": "code",
   "execution_count": 3,
   "metadata": {},
   "outputs": [],
   "source": [
    "def sample_policy(observation):\n",
    "    score, _, _ = observation\n",
    "    return 0 if score >= 20 else 1"
   ]
  },
  {
   "cell_type": "code",
   "execution_count": 4,
   "metadata": {},
   "outputs": [
    {
     "name": "stderr",
     "output_type": "stream",
     "text": [
      "100%|██████████| 10000/10000 [00:00<00:00, 10168.76it/s]\n"
     ]
    }
   ],
   "source": [
    "V = first_visit_mc_prediction_state_value(sample_policy, env, num_episodes=10000)"
   ]
  },
  {
   "cell_type": "code",
   "execution_count": null,
   "metadata": {},
   "outputs": [],
   "source": [
    "plot_blackjack_values(V)"
   ]
  },
  {
   "cell_type": "code",
   "execution_count": 6,
   "metadata": {},
   "outputs": [],
   "source": [
    "es_policy = defaultdict()\n",
    "\n",
    "for sum in range(1, 33):\n",
    "    for dealer in range (1, 11):\n",
    "        for usable in [False, True]:\n",
    "            es_policy[(sum, dealer, usable)] = np.random.choice([0, 1])\n",
    "            "
   ]
  },
  {
   "cell_type": "code",
   "execution_count": 7,
   "metadata": {},
   "outputs": [
    {
     "name": "stderr",
     "output_type": "stream",
     "text": [
      "100%|██████████| 100000/100000 [00:09<00:00, 10556.35it/s]\n"
     ]
    }
   ],
   "source": [
    "Q, pi = monte_carlo_exploring_starts(es_policy, env, 100000)"
   ]
  },
  {
   "cell_type": "code",
   "execution_count": null,
   "metadata": {},
   "outputs": [],
   "source": []
  }
 ],
 "metadata": {
  "kernelspec": {
   "display_name": "Python 3",
   "language": "python",
   "name": "python3"
  },
  "language_info": {
   "codemirror_mode": {
    "name": "ipython",
    "version": 3
   },
   "file_extension": ".py",
   "mimetype": "text/x-python",
   "name": "python",
   "nbconvert_exporter": "python",
   "pygments_lexer": "ipython3",
   "version": "3.10.9"
  },
  "orig_nbformat": 4
 },
 "nbformat": 4,
 "nbformat_minor": 2
}
